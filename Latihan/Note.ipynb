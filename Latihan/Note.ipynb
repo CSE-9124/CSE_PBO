{
 "cells": [
  {
   "cell_type": "markdown",
   "metadata": {},
   "source": [
    "# <font color = '555555'> <center> NOTE OF JAVA"
   ]
  },
  {
   "cell_type": "markdown",
   "metadata": {},
   "source": [
    "## <font color = '#5CB2D1'> Java Data Types </font>\n",
    "Data types are divided into two groups:\n",
    "\n",
    "**Primitive data types** - includes <font color = '#D15C5C'> byte</font>, <font color = '#D15C5C'>short</font>, <font color = '#D15C5C'>int</font>, <font color = '#D15C5C'>long</font>, <font color = '#D15C5C'>float</font>, <font color = '#D15C5C'>double</font>, <font color = '#D15C5C'>boolean</font> and <font color = '#D15C5C'>char</font>\n",
    "\n",
    "**Non-primitive data types** - such as <font color = '#D15C5C'>String</font>, *Arrays* and *Classes*"
   ]
  },
  {
   "cell_type": "markdown",
   "metadata": {},
   "source": [
    "### <font color = '#E0591B'> Numbers </font>\n",
    "Primitive number types are divided into two groups:\n",
    "\n",
    "**Integer types** stores whole numbers, positive or negative (such as 123 or -456), without decimals. Valid types are <font color = '#D15C5C'>byte</font>, <font color = '#D15C5C'>short</font>, <font color = '#D15C5C'>int</font> and <font color = '#D15C5C'>long</font>. Which type you should use, depends on the numeric value.\n",
    "\n",
    "**Floating point types** represents numbers with a fractional part, containing one or more decimals. There are two types: <font color = '#D15C5C'>float</font> and <font color = '#D15C5C'>double</font>.\n",
    "\n",
    "**Scientific Numbers**\n",
    "\n",
    "A floating point number can also be a scientific number with an \"e\" or \"E\" to indicate the power of 10:"
   ]
  },
  {
   "cell_type": "markdown",
   "metadata": {},
   "source": [
    "## <font color = '#5CB2D1'> Java Type Casting </font>\n",
    "Type casting is when you assign a value of one primitive data type to another type.\n",
    "\n",
    "In Java, there are two types of casting:\n",
    "\n",
    "1. **Widening Casting** (automatically) - converting a smaller type to a larger type size\n",
    "\n",
    "<font color = '#D15C5C'>byte</font> -> <font color = '#D15C5C'>short</font> -> <font color = '#D15C5C'>char</font> -> <font color = '#D15C5C'>int</font> -> <font color = '#D15C5C'>long</font> -> <font color = '#D15C5C'>float</font> -> <font color = '#D15C5C'>double</font>\n",
    "\n",
    "2. **Narrowing Casting** (manually) - converting a larger type to a smaller size type\n",
    "\n",
    "<font color = '#D15C5C'>double</font> -> <font color = '#D15C5C'>float</font> -> <font color = '#D15C5C'>long</font> -> <font color = '#D15C5C'>int</font> -> <font color = '#D15C5C'>char</font> -> <font color = '#D15C5C'>short</font> -> <font color = '#D15C5C'>byte</font>"
   ]
  },
  {
   "cell_type": "markdown",
   "metadata": {},
   "source": [
    "## <font color = '#5CB2D1'> Java Operators </font>\n",
    "Java divides the operators into the following groups:\n",
    "1. Arithmetic operators\n",
    "2. Assignment operators\n",
    "3. Comparison operators\n",
    "4. Logical operators\n",
    "5. Bitwise operators"
   ]
  },
  {
   "cell_type": "markdown",
   "metadata": {},
   "source": [
    "### <font color = '#E0591B'> Arithmetic Operators </font>\n",
    "Arithmetic operators are used to perform common mathematical operations.\n",
    "1. \"<font color = '#D15C5C'> + </font>\"\n",
    "2. \"<font color = '#D15C5C'> - </font>\"\n",
    "3. \"<font color = '#D15C5C'> * </font>\"\n",
    "4. \"<font color = '#D15C5C'> / </font>\"\n",
    "5. \"<font color = '#D15C5C'> % </font>\"\n",
    "6. \"<font color = '#D15C5C'> ++ </font>\" --> Increases the value of a variable by 1\n",
    "7. \"<font color = '#D15C5C'> -- </font>\" --> Decreases the value of a variable by 1\n",
    "\n",
    "### <font color = '#E0591B'> Assignment Operators </font>\n",
    "Assignment operators are used to assign values to variables.\n",
    "1. \"<font color = '#D15C5C'> += </font>\"\n",
    "2. \"<font color = '#D15C5C'> -= </font>\"\n",
    "3. \"<font color = '#D15C5C'> *= </font>\"\n",
    "4. \"<font color = '#D15C5C'> /= </font>\"\n",
    "5. \"<font color = '#D15C5C'> %= </font>\"\n",
    "6. \"<font color = '#D15C5C'> &= </font>\"\n",
    "7. \"<font color = '#D15C5C'> |= </font>\"\n",
    "8. \"<font color = '#D15C5C'> ^= </font>\"\n",
    "9. \"<font color = '#D15C5C'> >>= </font>\"\n",
    "10. \"<font color = '#D15C5C'> <<= </font>\"\n",
    "\n",
    "### <font color = '#E0591B'> Comparison Operators </font>\n",
    "Comparison operators are used to compare two values (or variables).\n",
    "1. \"<font color = '#D15C5C'> == </font>\"\n",
    "2. \"<font color = '#D15C5C'> != </font>\"\n",
    "3. \"<font color = '#D15C5C'> > </font>\"\n",
    "4. \"<font color = '#D15C5C'> < </font>\"\n",
    "5. \"<font color = '#D15C5C'> >= </font>\"\n",
    "6. \"<font color = '#D15C5C'> <= </font>\"\n",
    "\n",
    "### <font color = '#E0591B'> Logical Operators </font>\n",
    "Logical operators are used to determine the logic between variables or values.\n",
    "1. \"<font color = '#D15C5C'> && </font>\" --> Logical and (Returns true if both statements are true)\n",
    "2. \"<font color = '#D15C5C'> || </font>\" --> Logical or (Returns true if one of the statements is true)\n",
    "3. \"<font color = '#D15C5C'> ! </font>\" --> Logical not (Reverse the result, returns false if the result is true)"
   ]
  }
 ],
 "metadata": {
  "language_info": {
   "name": "python"
  }
 },
 "nbformat": 4,
 "nbformat_minor": 2
}
